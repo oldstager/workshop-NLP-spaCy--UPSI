{
 "cells": [
  {
   "cell_type": "markdown",
   "id": "6d505549-fcec-429d-af75-a24f8d36f105",
   "metadata": {},
   "source": [
    "# Container Objects\n",
    "\n",
    "## Language"
   ]
  },
  {
   "cell_type": "code",
   "execution_count": 1,
   "id": "28705f80-49c1-4e2d-aa49-b475bb92092a",
   "metadata": {},
   "outputs": [
    {
     "name": "stdout",
     "output_type": "stream",
     "text": [
      "contents of nlp =  <spacy.lang.en.English object at 0x719dbb828ec0>\n",
      "contents of vocab.strings fron nlp:  <spacy.strings.StringStore object at 0x719dbb22ef80>\n",
      "709118\n",
      "Is 'speech' an English word?: True\n",
      "Is 'berjalan' an English word?: False\n",
      "0 Tragedian\n",
      "1 Litigate\n",
      "2 widemouth\n",
      "3 womenfolk\n",
      "4 frontrunner\n",
      "5 Eastward\n",
      "6 Articulates\n",
      "7 UT99\n",
      "8 Prowlers\n",
      "9 Ankle-High\n"
     ]
    }
   ],
   "source": [
    "# Definisi language - menggunakan spacy.load\n",
    "import spacy\n",
    "import itertools\n",
    "\n",
    "nlp = spacy.load(\"en_core_web_lg\")\n",
    "# --- sampai di sini\n",
    "\n",
    "print(\"contents of nlp = \", nlp)\n",
    "print(\"contents of vocab.strings fron nlp: \", nlp.vocab.strings)\n",
    "\n",
    "print(len(nlp.vocab.strings))\n",
    "words = set(nlp.vocab.strings)\n",
    "word = 'speech'\n",
    "print(f\"Is '{word}' an English word?: {word in words}\")\n",
    "word = 'berjalan'\n",
    "print(f\"Is '{word}' an English word?: {word in words}\")\n",
    "\n",
    "for i, val in enumerate(itertools.islice(words, 10)):\n",
    "    print(i, val)"
   ]
  },
  {
   "cell_type": "markdown",
   "id": "a66b018d-8dff-4160-b525-d37e9e2b5863",
   "metadata": {},
   "source": [
    "## Doc"
   ]
  },
  {
   "cell_type": "code",
   "execution_count": 2,
   "id": "d5cf1da1-9fc4-4147-ba60-2a3f024ec615",
   "metadata": {},
   "outputs": [
    {
     "name": "stdout",
     "output_type": "stream",
     "text": [
      "A\n",
      "Doc\n",
      "is\n",
      "a\n",
      "sequence\n",
      "of\n",
      "Token\n"
     ]
    }
   ],
   "source": [
    "import spacy\n",
    "\n",
    "nlp = spacy.load(\"en_core_web_lg\")\n",
    "doc = nlp(\"A Doc is a sequence of Token\")\n",
    "\n",
    "for token in doc:\n",
    "    print(token)"
   ]
  },
  {
   "cell_type": "markdown",
   "id": "ba19d13b-6bcc-4d07-b426-cbc6be7af88d",
   "metadata": {},
   "source": [
    "## DocBin\n",
    "\n",
    "If you need to serialize processing results into a binary object."
   ]
  },
  {
   "cell_type": "code",
   "execution_count": 3,
   "id": "68e24717-fc2d-4c6b-8162-dc8b1b6860fa",
   "metadata": {},
   "outputs": [
    {
     "name": "stdout",
     "output_type": "stream",
     "text": [
      "The\n",
      "DocBin\n",
      "class\n",
      "lets\n",
      "you\n",
      "efficiently\n",
      "serialize\n",
      "the\n",
      "information\n",
      "from\n",
      "a\n",
      "collection\n",
      "of\n",
      "Doc\n",
      "objects\n",
      ".\n",
      "The\n",
      "DocBin\n",
      "class\n",
      "lets\n",
      "you\n",
      "efficiently\n",
      "serialize\n",
      "the\n",
      "information\n",
      "from\n",
      "a\n",
      "collection\n",
      "of\n",
      "Doc\n",
      "objects\n",
      ".\n"
     ]
    }
   ],
   "source": [
    "from spacy.tokens import DocBin\n",
    "\n",
    "doc_bin = DocBin(attrs=[\"LEMMA\"])\n",
    "doc = nlp(\"The DocBin class lets you efficiently serialize the information from a collection of Doc objects.\")\n",
    "\n",
    "doc_bin.add(doc)\n",
    "for token in doc:\n",
    "    print(token)  \n",
    "doc_bin.to_disk(\"./data.spacy\")\n",
    "\n",
    "doc_bin = DocBin().from_disk(\"./data.spacy\")\n",
    "for token in doc:\n",
    "    print(token)"
   ]
  },
  {
   "cell_type": "markdown",
   "id": "840f40a0-4657-43fc-bc52-d8f3fa9bb765",
   "metadata": {},
   "source": [
    "## Span\n",
    "\n",
    "A fragment taken from Doc"
   ]
  },
  {
   "cell_type": "code",
   "execution_count": 6,
   "id": "7d723349-6be8-4dd2-a698-c4f7e6857ea5",
   "metadata": {},
   "outputs": [
    {
     "name": "stdout",
     "output_type": "stream",
     "text": [
      "Doc is a sequence\n"
     ]
    }
   ],
   "source": [
    "import spacy\n",
    "\n",
    "nlp = spacy.load(\"en_core_web_lg\")\n",
    "doc = nlp(\"A Doc is a sequence of Token\")\n",
    "\n",
    "span = doc[1:5]\n",
    "\n",
    "print(span)"
   ]
  },
  {
   "cell_type": "markdown",
   "id": "c98d8075-c5e4-4dc4-8dbb-128ac3354d81",
   "metadata": {},
   "source": [
    "## Other Container Objects\n",
    "\n",
    "1. Example\n",
    "2. SpanGroup\n",
    "3. Toke"
   ]
  },
  {
   "cell_type": "code",
   "execution_count": null,
   "id": "0e52bf21-c46c-4d47-aba7-d32c66ac8c24",
   "metadata": {},
   "outputs": [],
   "source": []
  }
 ],
 "metadata": {
  "kernelspec": {
   "display_name": "Python 3 (ipykernel)",
   "language": "python",
   "name": "python3"
  },
  "language_info": {
   "codemirror_mode": {
    "name": "ipython",
    "version": 3
   },
   "file_extension": ".py",
   "mimetype": "text/x-python",
   "name": "python",
   "nbconvert_exporter": "python",
   "pygments_lexer": "ipython3",
   "version": "3.12.8"
  }
 },
 "nbformat": 4,
 "nbformat_minor": 5
}
