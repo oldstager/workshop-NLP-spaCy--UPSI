{
 "cells": [
  {
   "cell_type": "markdown",
   "id": "86515128-eabc-4911-81c1-e9250bafa6b6",
   "metadata": {},
   "source": [
    "# Similarity"
   ]
  },
  {
   "cell_type": "code",
   "execution_count": 6,
   "id": "c27e068b-2fd8-4807-8c07-15aa329a0dca",
   "metadata": {},
   "outputs": [
    {
     "name": "stdout",
     "output_type": "stream",
     "text": [
      "['CAT', 'CATs', 'KITTEN', 'doG', 'KITTY', 'PET', 'PUPPY', 'KITTENS', 'FELINE', 'DOGS']\n"
     ]
    }
   ],
   "source": [
    "import numpy as np\n",
    "import spacy\n",
    "\n",
    "nlp = spacy.load(\"en_core_web_lg\")\n",
    "\n",
    "the_word = \"cat\"\n",
    "\n",
    "ms = nlp.vocab.vectors.most_similar(np.asarray([nlp.vocab.vectors[nlp.vocab.strings[the_word]]]),n=10)\n",
    "\n",
    "words = [nlp.vocab.strings[w] for w in ms[0][0]] \n",
    "distances = ms[2] \n",
    "print(words)"
   ]
  },
  {
   "cell_type": "code",
   "execution_count": 7,
   "id": "e8ac14cb-ada3-4f9b-b314-7094d22c770c",
   "metadata": {},
   "outputs": [
    {
     "name": "stdout",
     "output_type": "stream",
     "text": [
      "Similarity score: 0.8465314507484436\n"
     ]
    }
   ],
   "source": [
    "import spacy\n",
    "\n",
    "nlp = spacy.load(\"en_core_web_lg\")\n",
    "\n",
    "sentence1 = \"I love pizza\"\n",
    "sentence2 = \"I adore hamburgers\"\n",
    "\n",
    "doc1 = nlp(sentence1)\n",
    "doc2 = nlp(sentence2)\n",
    "\n",
    "similarity_score = doc1.similarity(doc2)\n",
    "print(f\"Similarity score: {similarity_score}\")"
   ]
  },
  {
   "cell_type": "code",
   "execution_count": 8,
   "id": "bcda55eb-f63d-401b-b355-a9e10062cc6b",
   "metadata": {},
   "outputs": [
    {
     "name": "stdout",
     "output_type": "stream",
     "text": [
      "I enjoy Apples. <-> I enjoy Apples. 1.0\n"
     ]
    }
   ],
   "source": [
    "doc3 = nlp(\"I enjoy Apples.\")\n",
    "doc4 = nlp(\"I enjoy Apples.\")\n",
    "\n",
    "print(doc3,\"<->\",doc4,doc3.similarity(doc4))"
   ]
  },
  {
   "cell_type": "code",
   "execution_count": 11,
   "id": "d54a0b36-8658-4262-bcee-1f383cb140de",
   "metadata": {},
   "outputs": [
    {
     "name": "stdout",
     "output_type": "stream",
     "text": [
      "pizza <-> hamburgers 0.6550081372261047\n"
     ]
    }
   ],
   "source": [
    "french_fries = doc1[2] \n",
    "burgers = doc2[2] \n",
    "print(french_fries,\"<->\",burgers,french_fries.similarity(burgers))"
   ]
  },
  {
   "cell_type": "code",
   "execution_count": null,
   "id": "4d36cff7-1dda-446d-aa36-7956a31ee73c",
   "metadata": {},
   "outputs": [],
   "source": []
  }
 ],
 "metadata": {
  "kernelspec": {
   "display_name": "Python 3 (ipykernel)",
   "language": "python",
   "name": "python3"
  },
  "language_info": {
   "codemirror_mode": {
    "name": "ipython",
    "version": 3
   },
   "file_extension": ".py",
   "mimetype": "text/x-python",
   "name": "python",
   "nbconvert_exporter": "python",
   "pygments_lexer": "ipython3",
   "version": "3.12.8"
  }
 },
 "nbformat": 4,
 "nbformat_minor": 5
}
