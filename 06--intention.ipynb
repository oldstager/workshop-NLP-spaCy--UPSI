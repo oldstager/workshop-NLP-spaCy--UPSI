{
 "cells": [
  {
   "cell_type": "markdown",
   "id": "0b462958-0241-4342-8f0a-3ff61522c2e3",
   "metadata": {},
   "source": [
    "# Intention\n",
    "\n",
    "## Extracting transitive verbs (transitive verbs - verbs that require objects) and direct objects."
   ]
  },
  {
   "cell_type": "code",
   "execution_count": 1,
   "id": "5c5c9a19-c1ff-425e-acf9-d6747dc3abc1",
   "metadata": {},
   "outputs": [
    {
     "name": "stdout",
     "output_type": "stream",
     "text": [
      "showHotel\n",
      "berlin 26 32 GPE\n",
      "berlin\n"
     ]
    }
   ],
   "source": [
    "import spacy\n",
    "\n",
    "nlp = spacy.load('en_core_web_lg')\n",
    "\n",
    "doc = nlp(u'show me the best hotel in berlin')\n",
    "\n",
    "for token in doc:\n",
    "    if token.dep_ == 'dobj':\n",
    "        print(token.head.text + token.text.capitalize())\n",
    "\n",
    "for ent in doc.ents:\n",
    "    print(ent.text, ent.start_char, ent.end_char, ent.label_)\n",
    "    if ent.label_ == \"GPE\":\n",
    "        print(ent.text)"
   ]
  },
  {
   "cell_type": "markdown",
   "id": "986978f7-eeb9-45b8-8669-86f074f70c1b",
   "metadata": {},
   "source": [
    "## Sentence Sequences - Conjunctions"
   ]
  },
  {
   "cell_type": "code",
   "execution_count": 2,
   "id": "2f157c11-d1be-49bb-9b9f-52eabf87ab95",
   "metadata": {},
   "outputs": [
    {
     "name": "stdout",
     "output_type": "stream",
     "text": [
      "wantPizza\n"
     ]
    }
   ],
   "source": [
    "#apply the pipeline to the sample sentence\n",
    "doc = nlp(u'I want to place an order for a pizza.')\n",
    "\n",
    "# extract the direct object and its transitive verb\n",
    "dobj = ''\n",
    "tverb = ''\n",
    "for token in doc:\n",
    "    if token.dep_ == 'dobj':\n",
    "        dobj = token\n",
    "        tverb = token.head\n",
    "\n",
    "# extract the verb for the intent's definition\n",
    "intentVerb = ''\n",
    "verbList = ['want', 'like', 'need', 'order']\n",
    "if tverb.text in verbList:\n",
    "    intentVerb = tverb\n",
    "else:\n",
    "    if tverb.head.dep_ == 'ROOT':\n",
    "        intentVerb = tverb.head\n",
    "\n",
    "# extract the object for the intent's definition\n",
    "intentObj = ''\n",
    "objList = ['pizza', 'cola']\n",
    "if dobj.text in objList:\n",
    "    intentObj = dobj\n",
    "else:\n",
    "    for child in dobj.children:\n",
    "        if child.dep_ == 'prep':\n",
    "            intentObj = list(child.children)[0]\n",
    "            break\n",
    "        elif child.dep_ == 'compound':\n",
    "            intentObj = child\n",
    "            break\n",
    "\n",
    "# print the intent expressed in the sample sentence\n",
    "print(intentVerb.text + intentObj.text.capitalize())"
   ]
  },
  {
   "cell_type": "markdown",
   "id": "28be2559-7f74-474f-8611-0228804b4c38",
   "metadata": {},
   "source": [
    "## Recognizing Synonyms"
   ]
  },
  {
   "cell_type": "code",
   "execution_count": 3,
   "id": "b690d014-8e0e-4f50-944b-5b0d1e15169b",
   "metadata": {},
   "outputs": [
    {
     "name": "stdout",
     "output_type": "stream",
     "text": [
      "orderPizza\n"
     ]
    }
   ],
   "source": [
    "doc = nlp(u'I want a dish.')\n",
    "\n",
    "#extract the transitive verb and its direct object from the dependency tree\n",
    "for token in doc:\n",
    "    if token.dep_ == 'dobj':\n",
    "        verb = token.head.text\n",
    "        dobj = token.text\n",
    "\n",
    "#create a list of tuples for possible verb synonyms\n",
    "verbList = [('order','want','give','make'),('show','find')]\n",
    "\n",
    "#find the tuple containing the transitive verb extracted from the sample\n",
    "verbSyns = [item for item in verbList if verb in item]\n",
    "\n",
    "#create a list of tuples for possible direct object synonyms\n",
    "dobjList = [('pizza','pie','dish'),('cola','soda')]\n",
    "\n",
    "#find the tuple containing the direct object extracted from the sample\n",
    "dobjSyns = [item for item in dobjList if dobj in item]\n",
    "\n",
    "#replace the transitive verb and the direct object with synonyms supported by the application\n",
    "#and compose the string that represents the intent\n",
    "intent = verbSyns[0][0] + dobjSyns[0][0].capitalize()\n",
    "print(intent)"
   ]
  },
  {
   "cell_type": "markdown",
   "id": "c43bc796-f3b7-48a6-8802-929602732853",
   "metadata": {},
   "source": [
    "## Semantic Similarity"
   ]
  },
  {
   "cell_type": "code",
   "execution_count": 4,
   "id": "2071b5cd-bc6b-43f9-8f30-f1c443e2a4b0",
   "metadata": {},
   "outputs": [
    {
     "name": "stdout",
     "output_type": "stream",
     "text": [
      "Would you like to look at our menu?\n",
      "0.4594937562942505\n"
     ]
    }
   ],
   "source": [
    "doc = nlp(u'I feel like eating a pie')\n",
    "doc2 = nlp(u'food')\n",
    "\n",
    "for token in doc:\n",
    "    if token.dep_ == 'dobj':\n",
    "        dobj = token\n",
    "\n",
    "if dobj.similarity(doc2[0]) > 0.4:\n",
    "    print(\"Would you like to look at our menu?\")\n",
    "\n",
    "print(dobj.similarity(doc2[0]))"
   ]
  },
  {
   "cell_type": "markdown",
   "id": "cc688ff8-f7bb-460a-807b-e73688c81e85",
   "metadata": {},
   "source": [
    "## Recognizing intention from sentence sequences"
   ]
  },
  {
   "cell_type": "code",
   "execution_count": 5,
   "id": "9545b5fe-dd65-4db2-88e6-a5776c35cfc0",
   "metadata": {},
   "outputs": [
    {
     "name": "stdout",
     "output_type": "stream",
     "text": [
      "orderPizza\n"
     ]
    }
   ],
   "source": [
    "doc = nlp(u'I have finished my pizza. I want another one.')\n",
    "\n",
    "verbList = [('order','want','give','make'),('show','find')]\n",
    "dobjList = [('pizza','pie','pizzaz'),('cola','soda')]\n",
    "substitutes = ('one','it','same','more')\n",
    "intent = {'verb': '', 'dobj': ''}\n",
    "\n",
    "for sent in doc.sents:\n",
    "    for token in sent:\n",
    "        if token.dep_ == 'dobj':\n",
    "            verbSyns = [item for item in verbList if token.head.text in item]\n",
    "            dobjSyns = [item for item in dobjList if token.text in item]\n",
    "            substitute = [item for item in substitutes if token.text in item]\n",
    "            if (dobjSyns != [] or substitute != []) and verbSyns != []:\n",
    "                intent['verb'] = verbSyns[0][0]\n",
    "            if dobjSyns != []:\n",
    "                intent['dobj'] = dobjSyns[0][0]\n",
    "\n",
    "intentStr = intent['verb'] + intent['dobj'].capitalize()\n",
    "print(intentStr)"
   ]
  },
  {
   "cell_type": "code",
   "execution_count": null,
   "id": "704feba4-94be-4a30-a8c9-c2f288df1918",
   "metadata": {},
   "outputs": [],
   "source": []
  }
 ],
 "metadata": {
  "kernelspec": {
   "display_name": "Python 3 (ipykernel)",
   "language": "python",
   "name": "python3"
  },
  "language_info": {
   "codemirror_mode": {
    "name": "ipython",
    "version": 3
   },
   "file_extension": ".py",
   "mimetype": "text/x-python",
   "name": "python",
   "nbconvert_exporter": "python",
   "pygments_lexer": "ipython3",
   "version": "3.12.8"
  }
 },
 "nbformat": 4,
 "nbformat_minor": 5
}
