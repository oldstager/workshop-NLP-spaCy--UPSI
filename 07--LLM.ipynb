{
 "cells": [
  {
   "cell_type": "markdown",
   "id": "c79d0b55-0202-4e43-ad2e-475bbe200659",
   "metadata": {},
   "source": [
    "# Large Language Model\n",
    "\n",
    "## Using spcy-llm\n",
    "\n",
    "Install `spacy-llm` first:\n",
    "\n",
    "```\n",
    "$ pip install spacy-llm \n",
    "Collecting spacy-llm\n",
    "  Downloading spacy_llm-0.7.2-py2.py3-none-any.whl.metadata (10 kB)\n",
    "Requirement already satisfied: spacy<4.0,>=3.5 in /home/bpdp/.local/share/mamba/envs/py312-nlp/lib/python3.12/site-packages (from spacy-llm) (3.8.3)\n",
    "Requirement already satisfied: jinja2 in /home/bpdp/.local/share/mamba/envs/py312-nlp/lib/python3.12/site-packages (from spacy-llm) (3.1.5)\n",
    "Requirement already satisfied: confection<1.0.0,>=0.1.3 in /home/bpdp/.local/share/mamba/envs/py312-nlp/lib/python3.12/site-packages (from spacy-llm) (0.1.5)\n",
    "...\n",
    "...\n",
    "...\n",
    "Requirement already satisfied: mdurl~=0.1 in /home/bpdp/.local/share/mamba/envs/py312-nlp/lib/python3.12/site-packages (from markdown-it-py>=2.2.0->rich>=10.11.0->typer<1.0.0,>=0.3.0->spacy<4.0,>=3.5->spacy-llm) (0.1.2)\n",
    "Downloading spacy_llm-0.7.2-py2.py3-none-any.whl (255 kB)\n",
    "Installing collected packages: spacy-llm\n",
    "Successfully installed spacy-llm-0.7.2\n",
    "$\n",
    "```\n",
    "\n",
    "You also need to have OpenAI key (if you want to use OpenAI services). Get them by signup in OpenAI.\n",
    "\n",
    "## Without spacy-llm\n",
    "\n",
    "Install openai package:\n",
    "\n",
    "```\n",
    "$ pip install openai) \n",
    "Collecting openai\n",
    "  Downloading openai-1.59.6-py3-none-any.whl.metadata (27 kB)\n",
    "Requirement already satisfied: anyio<5,>=3.5.0 in /home/bpdp/.local/share/mamba/envs/py312-nlp/lib/python3.12/site-packages (from openai) (4.8.0)\n",
    "Collecting distro<2,>=1.7.0 (from openai)\n",
    "  Downloading distro-1.9.0-py3-none-any.whl.metadata (6.8 kB)\n",
    "...\n",
    "...\n",
    "...\n",
    "Downloading jiter-0.8.2-cp312-cp312-manylinux_2_17_x86_64.manylinux2014_x86_64.whl (345 kB)\n",
    "Installing collected packages: jiter, distro, openai\n",
    "Successfully installed distro-1.9.0 jiter-0.8.2 openai-1.59.6\n",
    "$\n",
    "```\n",
    "\n",
    "Next: see `llm` directory"
   ]
  },
  {
   "cell_type": "code",
   "execution_count": null,
   "id": "925d562b-b66b-4a91-9616-b8c2cae6c529",
   "metadata": {},
   "outputs": [],
   "source": []
  }
 ],
 "metadata": {
  "kernelspec": {
   "display_name": "Python 3 (ipykernel)",
   "language": "python",
   "name": "python3"
  },
  "language_info": {
   "codemirror_mode": {
    "name": "ipython",
    "version": 3
   },
   "file_extension": ".py",
   "mimetype": "text/x-python",
   "name": "python",
   "nbconvert_exporter": "python",
   "pygments_lexer": "ipython3",
   "version": "3.12.8"
  }
 },
 "nbformat": 4,
 "nbformat_minor": 5
}
